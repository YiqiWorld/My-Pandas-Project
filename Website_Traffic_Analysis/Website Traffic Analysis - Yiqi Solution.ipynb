{
 "cells": [
  {
   "cell_type": "code",
   "execution_count": 12,
   "id": "043f0e70",
   "metadata": {},
   "outputs": [],
   "source": [
    "import pandas as pd\n",
    "import numpy as np \n",
    "from scipy import stats"
   ]
  },
  {
   "cell_type": "code",
   "execution_count": 2,
   "id": "5b2d6293",
   "metadata": {},
   "outputs": [],
   "source": [
    "df = pd.read_csv('Desktop/Website_Traffic_Analysis/traffic.csv')"
   ]
  },
  {
   "cell_type": "code",
   "execution_count": 3,
   "id": "36d11a8b",
   "metadata": {},
   "outputs": [
    {
     "data": {
      "text/html": [
       "<div>\n",
       "<style scoped>\n",
       "    .dataframe tbody tr th:only-of-type {\n",
       "        vertical-align: middle;\n",
       "    }\n",
       "\n",
       "    .dataframe tbody tr th {\n",
       "        vertical-align: top;\n",
       "    }\n",
       "\n",
       "    .dataframe thead th {\n",
       "        text-align: right;\n",
       "    }\n",
       "</style>\n",
       "<table border=\"1\" class=\"dataframe\">\n",
       "  <thead>\n",
       "    <tr style=\"text-align: right;\">\n",
       "      <th></th>\n",
       "      <th>event</th>\n",
       "      <th>date</th>\n",
       "      <th>country</th>\n",
       "      <th>city</th>\n",
       "      <th>artist</th>\n",
       "      <th>album</th>\n",
       "      <th>track</th>\n",
       "      <th>isrc</th>\n",
       "      <th>linkid</th>\n",
       "    </tr>\n",
       "  </thead>\n",
       "  <tbody>\n",
       "    <tr>\n",
       "      <th>0</th>\n",
       "      <td>click</td>\n",
       "      <td>2021-08-21</td>\n",
       "      <td>Saudi Arabia</td>\n",
       "      <td>Jeddah</td>\n",
       "      <td>Tesher</td>\n",
       "      <td>Jalebi Baby</td>\n",
       "      <td>Jalebi Baby</td>\n",
       "      <td>QZNWQ2070741</td>\n",
       "      <td>2d896d31-97b6-4869-967b-1c5fb9cd4bb8</td>\n",
       "    </tr>\n",
       "    <tr>\n",
       "      <th>1</th>\n",
       "      <td>click</td>\n",
       "      <td>2021-08-21</td>\n",
       "      <td>Saudi Arabia</td>\n",
       "      <td>Jeddah</td>\n",
       "      <td>Tesher</td>\n",
       "      <td>Jalebi Baby</td>\n",
       "      <td>Jalebi Baby</td>\n",
       "      <td>QZNWQ2070741</td>\n",
       "      <td>2d896d31-97b6-4869-967b-1c5fb9cd4bb8</td>\n",
       "    </tr>\n",
       "    <tr>\n",
       "      <th>2</th>\n",
       "      <td>click</td>\n",
       "      <td>2021-08-21</td>\n",
       "      <td>India</td>\n",
       "      <td>Ludhiana</td>\n",
       "      <td>Reyanna Maria</td>\n",
       "      <td>So Pretty</td>\n",
       "      <td>So Pretty</td>\n",
       "      <td>USUM72100871</td>\n",
       "      <td>23199824-9cf5-4b98-942a-34965c3b0cc2</td>\n",
       "    </tr>\n",
       "    <tr>\n",
       "      <th>3</th>\n",
       "      <td>click</td>\n",
       "      <td>2021-08-21</td>\n",
       "      <td>France</td>\n",
       "      <td>Unknown</td>\n",
       "      <td>Simone &amp; Simaria, Sebastian Yatra</td>\n",
       "      <td>No Llores Más</td>\n",
       "      <td>No Llores Más</td>\n",
       "      <td>BRUM72003904</td>\n",
       "      <td>35573248-4e49-47c7-af80-08a960fa74cd</td>\n",
       "    </tr>\n",
       "    <tr>\n",
       "      <th>4</th>\n",
       "      <td>click</td>\n",
       "      <td>2021-08-21</td>\n",
       "      <td>Maldives</td>\n",
       "      <td>Malé</td>\n",
       "      <td>Tesher</td>\n",
       "      <td>Jalebi Baby</td>\n",
       "      <td>Jalebi Baby</td>\n",
       "      <td>QZNWQ2070741</td>\n",
       "      <td>2d896d31-97b6-4869-967b-1c5fb9cd4bb8</td>\n",
       "    </tr>\n",
       "  </tbody>\n",
       "</table>\n",
       "</div>"
      ],
      "text/plain": [
       "   event        date       country      city  \\\n",
       "0  click  2021-08-21  Saudi Arabia    Jeddah   \n",
       "1  click  2021-08-21  Saudi Arabia    Jeddah   \n",
       "2  click  2021-08-21         India  Ludhiana   \n",
       "3  click  2021-08-21        France   Unknown   \n",
       "4  click  2021-08-21      Maldives      Malé   \n",
       "\n",
       "                              artist          album          track  \\\n",
       "0                             Tesher    Jalebi Baby    Jalebi Baby   \n",
       "1                             Tesher    Jalebi Baby    Jalebi Baby   \n",
       "2                      Reyanna Maria      So Pretty      So Pretty   \n",
       "3  Simone & Simaria, Sebastian Yatra  No Llores Más  No Llores Más   \n",
       "4                             Tesher    Jalebi Baby    Jalebi Baby   \n",
       "\n",
       "           isrc                                linkid  \n",
       "0  QZNWQ2070741  2d896d31-97b6-4869-967b-1c5fb9cd4bb8  \n",
       "1  QZNWQ2070741  2d896d31-97b6-4869-967b-1c5fb9cd4bb8  \n",
       "2  USUM72100871  23199824-9cf5-4b98-942a-34965c3b0cc2  \n",
       "3  BRUM72003904  35573248-4e49-47c7-af80-08a960fa74cd  \n",
       "4  QZNWQ2070741  2d896d31-97b6-4869-967b-1c5fb9cd4bb8  "
      ]
     },
     "execution_count": 3,
     "metadata": {},
     "output_type": "execute_result"
    }
   ],
   "source": [
    "df.head()"
   ]
  },
  {
   "cell_type": "code",
   "execution_count": 13,
   "id": "bb9ce4d4",
   "metadata": {},
   "outputs": [
    {
     "data": {
      "text/plain": [
       "(226278, 9)"
      ]
     },
     "execution_count": 13,
     "metadata": {},
     "output_type": "execute_result"
    }
   ],
   "source": [
    "df.shape # to get(# of rows, # of columns)"
   ]
  },
  {
   "cell_type": "markdown",
   "id": "3d4dee64",
   "metadata": {},
   "source": [
    "# Q1: [Pandas] How many total pageview events did the links in the provided dataset receive in the full period, how many per day?"
   ]
  },
  {
   "cell_type": "code",
   "execution_count": 16,
   "id": "46cc4df1",
   "metadata": {},
   "outputs": [
    {
     "data": {
      "text/plain": [
       "array(['click', 'preview', 'pageview'], dtype=object)"
      ]
     },
     "execution_count": 16,
     "metadata": {},
     "output_type": "execute_result"
    }
   ],
   "source": [
    "df.event.unique() # find unique values in a column"
   ]
  },
  {
   "cell_type": "code",
   "execution_count": 18,
   "id": "f0864635",
   "metadata": {},
   "outputs": [
    {
     "data": {
      "text/plain": [
       "pageview    142015\n",
       "click        55732\n",
       "preview      28531\n",
       "Name: event, dtype: int64"
      ]
     },
     "execution_count": 18,
     "metadata": {},
     "output_type": "execute_result"
    }
   ],
   "source": [
    "df.event.value_counts() # find unique values and count their frequency"
   ]
  },
  {
   "cell_type": "code",
   "execution_count": 27,
   "id": "19d53738",
   "metadata": {
    "scrolled": true
   },
   "outputs": [
    {
     "data": {
      "text/html": [
       "<div>\n",
       "<style scoped>\n",
       "    .dataframe tbody tr th:only-of-type {\n",
       "        vertical-align: middle;\n",
       "    }\n",
       "\n",
       "    .dataframe tbody tr th {\n",
       "        vertical-align: top;\n",
       "    }\n",
       "\n",
       "    .dataframe thead th {\n",
       "        text-align: right;\n",
       "    }\n",
       "</style>\n",
       "<table border=\"1\" class=\"dataframe\">\n",
       "  <thead>\n",
       "    <tr style=\"text-align: right;\">\n",
       "      <th></th>\n",
       "      <th>event</th>\n",
       "      <th>date</th>\n",
       "      <th>country</th>\n",
       "      <th>city</th>\n",
       "      <th>artist</th>\n",
       "      <th>album</th>\n",
       "      <th>track</th>\n",
       "      <th>isrc</th>\n",
       "      <th>linkid</th>\n",
       "    </tr>\n",
       "  </thead>\n",
       "  <tbody>\n",
       "    <tr>\n",
       "      <th>84043</th>\n",
       "      <td>pageview</td>\n",
       "      <td>2021-08-19</td>\n",
       "      <td>Saudi Arabia</td>\n",
       "      <td>Riyadh</td>\n",
       "      <td>Tesher</td>\n",
       "      <td>Jalebi Baby</td>\n",
       "      <td>Jalebi Baby</td>\n",
       "      <td>QZNWQ2070741</td>\n",
       "      <td>2d896d31-97b6-4869-967b-1c5fb9cd4bb8</td>\n",
       "    </tr>\n",
       "    <tr>\n",
       "      <th>84044</th>\n",
       "      <td>pageview</td>\n",
       "      <td>2021-08-19</td>\n",
       "      <td>United States</td>\n",
       "      <td>Absecon</td>\n",
       "      <td>KA$HDAMI</td>\n",
       "      <td>epiphany</td>\n",
       "      <td>Reparations!</td>\n",
       "      <td>QZFYY2115255</td>\n",
       "      <td>9c61dba1-9369-4ee4-a215-1d34581cd811</td>\n",
       "    </tr>\n",
       "    <tr>\n",
       "      <th>84045</th>\n",
       "      <td>pageview</td>\n",
       "      <td>2021-08-19</td>\n",
       "      <td>Saudi Arabia</td>\n",
       "      <td>Riyadh</td>\n",
       "      <td>Tesher</td>\n",
       "      <td>Jalebi Baby</td>\n",
       "      <td>Jalebi Baby</td>\n",
       "      <td>QZNWQ2070741</td>\n",
       "      <td>2d896d31-97b6-4869-967b-1c5fb9cd4bb8</td>\n",
       "    </tr>\n",
       "    <tr>\n",
       "      <th>84046</th>\n",
       "      <td>pageview</td>\n",
       "      <td>2021-08-19</td>\n",
       "      <td>Ireland</td>\n",
       "      <td>Mullingar</td>\n",
       "      <td>Cardi B</td>\n",
       "      <td>Up</td>\n",
       "      <td>Up</td>\n",
       "      <td>USAT22100061</td>\n",
       "      <td>9d847c0e-6824-438f-9dc1-d76fca6dc87c</td>\n",
       "    </tr>\n",
       "    <tr>\n",
       "      <th>84047</th>\n",
       "      <td>pageview</td>\n",
       "      <td>2021-08-19</td>\n",
       "      <td>United Kingdom</td>\n",
       "      <td>Northampton</td>\n",
       "      <td>Kayla Nicole, Taylor Girlz, Flo Milli</td>\n",
       "      <td>Bundles 2 (feat. Flo Milli, Taylor Girlz)</td>\n",
       "      <td>Bundles 2 (feat. Flo Milli, Taylor Girlz)</td>\n",
       "      <td>QMCE32100359</td>\n",
       "      <td>fbf4b935-f961-4b13-b1d8-45ad47093559</td>\n",
       "    </tr>\n",
       "    <tr>\n",
       "      <th>...</th>\n",
       "      <td>...</td>\n",
       "      <td>...</td>\n",
       "      <td>...</td>\n",
       "      <td>...</td>\n",
       "      <td>...</td>\n",
       "      <td>...</td>\n",
       "      <td>...</td>\n",
       "      <td>...</td>\n",
       "      <td>...</td>\n",
       "    </tr>\n",
       "    <tr>\n",
       "      <th>226273</th>\n",
       "      <td>pageview</td>\n",
       "      <td>2021-08-24</td>\n",
       "      <td>Kuwait</td>\n",
       "      <td>Kuwait City</td>\n",
       "      <td>Sean Paul</td>\n",
       "      <td>The Trinity</td>\n",
       "      <td>Temperature</td>\n",
       "      <td>USAT20505520</td>\n",
       "      <td>04ba6b17-1055-4f0e-a75e-3cdb0d0d4106</td>\n",
       "    </tr>\n",
       "    <tr>\n",
       "      <th>226274</th>\n",
       "      <td>pageview</td>\n",
       "      <td>2021-08-24</td>\n",
       "      <td>India</td>\n",
       "      <td>Chennai</td>\n",
       "      <td>Miscél</td>\n",
       "      <td>when you left</td>\n",
       "      <td>when you left</td>\n",
       "      <td>QM42K1907890</td>\n",
       "      <td>2fc15e8b-83aa-40ee-9f9d-5d96c6d4356c</td>\n",
       "    </tr>\n",
       "    <tr>\n",
       "      <th>226275</th>\n",
       "      <td>pageview</td>\n",
       "      <td>2021-08-24</td>\n",
       "      <td>India</td>\n",
       "      <td>Jaipur</td>\n",
       "      <td>Trippie Redd, Lil Uzi Vert</td>\n",
       "      <td>Holy Smokes (feat. Lil Uzi Vert)</td>\n",
       "      <td>Holy Smokes</td>\n",
       "      <td>QZJ842001118</td>\n",
       "      <td>eedc8702-6bd2-499a-972f-260c35f72e0f</td>\n",
       "    </tr>\n",
       "    <tr>\n",
       "      <th>226276</th>\n",
       "      <td>pageview</td>\n",
       "      <td>2021-08-24</td>\n",
       "      <td>France</td>\n",
       "      <td>Unknown</td>\n",
       "      <td>Young Thug</td>\n",
       "      <td>Tick Tock</td>\n",
       "      <td>Tick Tock</td>\n",
       "      <td>USAT22104514</td>\n",
       "      <td>e0a76dc3-7ccd-405f-8ee8-a2c55c0e0ed2</td>\n",
       "    </tr>\n",
       "    <tr>\n",
       "      <th>226277</th>\n",
       "      <td>pageview</td>\n",
       "      <td>2021-08-24</td>\n",
       "      <td>Iraq</td>\n",
       "      <td>Duhok</td>\n",
       "      <td>Tesher</td>\n",
       "      <td>Jalebi Baby</td>\n",
       "      <td>Jalebi Baby</td>\n",
       "      <td>QZNWQ2070741</td>\n",
       "      <td>2d896d31-97b6-4869-967b-1c5fb9cd4bb8</td>\n",
       "    </tr>\n",
       "  </tbody>\n",
       "</table>\n",
       "<p>142015 rows × 9 columns</p>\n",
       "</div>"
      ],
      "text/plain": [
       "           event        date         country         city  \\\n",
       "84043   pageview  2021-08-19    Saudi Arabia       Riyadh   \n",
       "84044   pageview  2021-08-19   United States      Absecon   \n",
       "84045   pageview  2021-08-19    Saudi Arabia       Riyadh   \n",
       "84046   pageview  2021-08-19         Ireland    Mullingar   \n",
       "84047   pageview  2021-08-19  United Kingdom  Northampton   \n",
       "...          ...         ...             ...          ...   \n",
       "226273  pageview  2021-08-24          Kuwait  Kuwait City   \n",
       "226274  pageview  2021-08-24           India      Chennai   \n",
       "226275  pageview  2021-08-24           India       Jaipur   \n",
       "226276  pageview  2021-08-24          France      Unknown   \n",
       "226277  pageview  2021-08-24            Iraq        Duhok   \n",
       "\n",
       "                                       artist  \\\n",
       "84043                                  Tesher   \n",
       "84044                                KA$HDAMI   \n",
       "84045                                  Tesher   \n",
       "84046                                 Cardi B   \n",
       "84047   Kayla Nicole, Taylor Girlz, Flo Milli   \n",
       "...                                       ...   \n",
       "226273                              Sean Paul   \n",
       "226274                                 Miscél   \n",
       "226275             Trippie Redd, Lil Uzi Vert   \n",
       "226276                             Young Thug   \n",
       "226277                                 Tesher   \n",
       "\n",
       "                                            album  \\\n",
       "84043                                 Jalebi Baby   \n",
       "84044                                    epiphany   \n",
       "84045                                 Jalebi Baby   \n",
       "84046                                          Up   \n",
       "84047   Bundles 2 (feat. Flo Milli, Taylor Girlz)   \n",
       "...                                           ...   \n",
       "226273                                The Trinity   \n",
       "226274                              when you left   \n",
       "226275           Holy Smokes (feat. Lil Uzi Vert)   \n",
       "226276                                  Tick Tock   \n",
       "226277                                Jalebi Baby   \n",
       "\n",
       "                                            track          isrc  \\\n",
       "84043                                 Jalebi Baby  QZNWQ2070741   \n",
       "84044                                Reparations!  QZFYY2115255   \n",
       "84045                                 Jalebi Baby  QZNWQ2070741   \n",
       "84046                                          Up  USAT22100061   \n",
       "84047   Bundles 2 (feat. Flo Milli, Taylor Girlz)  QMCE32100359   \n",
       "...                                           ...           ...   \n",
       "226273                                Temperature  USAT20505520   \n",
       "226274                              when you left  QM42K1907890   \n",
       "226275                                Holy Smokes  QZJ842001118   \n",
       "226276                                  Tick Tock  USAT22104514   \n",
       "226277                                Jalebi Baby  QZNWQ2070741   \n",
       "\n",
       "                                      linkid  \n",
       "84043   2d896d31-97b6-4869-967b-1c5fb9cd4bb8  \n",
       "84044   9c61dba1-9369-4ee4-a215-1d34581cd811  \n",
       "84045   2d896d31-97b6-4869-967b-1c5fb9cd4bb8  \n",
       "84046   9d847c0e-6824-438f-9dc1-d76fca6dc87c  \n",
       "84047   fbf4b935-f961-4b13-b1d8-45ad47093559  \n",
       "...                                      ...  \n",
       "226273  04ba6b17-1055-4f0e-a75e-3cdb0d0d4106  \n",
       "226274  2fc15e8b-83aa-40ee-9f9d-5d96c6d4356c  \n",
       "226275  eedc8702-6bd2-499a-972f-260c35f72e0f  \n",
       "226276  e0a76dc3-7ccd-405f-8ee8-a2c55c0e0ed2  \n",
       "226277  2d896d31-97b6-4869-967b-1c5fb9cd4bb8  \n",
       "\n",
       "[142015 rows x 9 columns]"
      ]
     },
     "execution_count": 27,
     "metadata": {},
     "output_type": "execute_result"
    }
   ],
   "source": [
    "df1 = df[df['event']=='pageview'] # filter for pageview according to the question\n",
    "df1"
   ]
  },
  {
   "cell_type": "markdown",
   "id": "f09c69fd",
   "metadata": {},
   "source": [
    "# the number of page view event"
   ]
  },
  {
   "cell_type": "code",
   "execution_count": 28,
   "id": "c35ab1c6",
   "metadata": {},
   "outputs": [
    {
     "data": {
      "text/plain": [
       "142015"
      ]
     },
     "execution_count": 28,
     "metadata": {},
     "output_type": "execute_result"
    }
   ],
   "source": [
    "len(df1.event) # first solution "
   ]
  },
  {
   "cell_type": "code",
   "execution_count": 41,
   "id": "7b286840",
   "metadata": {},
   "outputs": [
    {
     "data": {
      "text/plain": [
       "142015"
      ]
     },
     "execution_count": 41,
     "metadata": {},
     "output_type": "execute_result"
    }
   ],
   "source": [
    "df1.shape[0] # second solution "
   ]
  },
  {
   "cell_type": "markdown",
   "id": "3154059c",
   "metadata": {},
   "source": [
    "# the number of pageview events per day"
   ]
  },
  {
   "cell_type": "code",
   "execution_count": 40,
   "id": "1d944d85",
   "metadata": {},
   "outputs": [
    {
     "data": {
      "text/plain": [
       "date\n",
       "2021-08-19    22366\n",
       "2021-08-20    21382\n",
       "2021-08-21    21349\n",
       "2021-08-22    20430\n",
       "2021-08-23    18646\n",
       "2021-08-24    18693\n",
       "2021-08-25    19149\n",
       "dtype: int64"
      ]
     },
     "execution_count": 40,
     "metadata": {},
     "output_type": "execute_result"
    }
   ],
   "source": [
    "df1.groupby(['date']).size()"
   ]
  },
  {
   "cell_type": "markdown",
   "id": "55cb6f87",
   "metadata": {},
   "source": [
    "# attention: here the same user might visit the same page multiple times in the same date --> no need for dropping duplicates!!!!!"
   ]
  },
  {
   "cell_type": "markdown",
   "id": "51104eb4",
   "metadata": {},
   "source": [
    "# what if we drop the duplicates???"
   ]
  },
  {
   "cell_type": "code",
   "execution_count": 42,
   "id": "d6538e2e",
   "metadata": {},
   "outputs": [],
   "source": [
    "df1_drop = df1.drop_duplicates()"
   ]
  },
  {
   "cell_type": "code",
   "execution_count": 45,
   "id": "0ef64cf7",
   "metadata": {},
   "outputs": [
    {
     "data": {
      "text/plain": [
       "73360"
      ]
     },
     "execution_count": 45,
     "metadata": {},
     "output_type": "execute_result"
    }
   ],
   "source": [
    "df1_drop.shape[0] # compare to the original table, number of rows decrease!"
   ]
  },
  {
   "cell_type": "code",
   "execution_count": 46,
   "id": "a48528db",
   "metadata": {},
   "outputs": [
    {
     "data": {
      "text/plain": [
       "date\n",
       "2021-08-19    13006\n",
       "2021-08-20    11088\n",
       "2021-08-21     9939\n",
       "2021-08-22     9982\n",
       "2021-08-23     9722\n",
       "2021-08-24     9705\n",
       "2021-08-25     9918\n",
       "dtype: int64"
      ]
     },
     "execution_count": 46,
     "metadata": {},
     "output_type": "execute_result"
    }
   ],
   "source": [
    "df1_drop.groupby('date').size() # compare to the original table, number of pageviews decrease per day!"
   ]
  },
  {
   "cell_type": "markdown",
   "id": "ff357977",
   "metadata": {},
   "source": [
    "# Q2: [Pandas] What about the other recorded events?"
   ]
  },
  {
   "cell_type": "code",
   "execution_count": 47,
   "id": "1dae90ba",
   "metadata": {},
   "outputs": [],
   "source": [
    "df2 = df[df['event']=='click'] \n",
    "df3 = df[df['event']=='preview']"
   ]
  },
  {
   "cell_type": "code",
   "execution_count": 48,
   "id": "a6230eff",
   "metadata": {},
   "outputs": [
    {
     "data": {
      "text/plain": [
       "55732"
      ]
     },
     "execution_count": 48,
     "metadata": {},
     "output_type": "execute_result"
    }
   ],
   "source": [
    "df2.shape[0]"
   ]
  },
  {
   "cell_type": "code",
   "execution_count": 49,
   "id": "a61cbbc9",
   "metadata": {},
   "outputs": [
    {
     "data": {
      "text/plain": [
       "28531"
      ]
     },
     "execution_count": 49,
     "metadata": {},
     "output_type": "execute_result"
    }
   ],
   "source": [
    "df3.shape[0]"
   ]
  },
  {
   "cell_type": "code",
   "execution_count": 50,
   "id": "67f72092",
   "metadata": {},
   "outputs": [
    {
     "data": {
      "text/plain": [
       "date\n",
       "2021-08-19    9207\n",
       "2021-08-20    8508\n",
       "2021-08-21    8071\n",
       "2021-08-22    7854\n",
       "2021-08-23    7315\n",
       "2021-08-24    7301\n",
       "2021-08-25    7476\n",
       "dtype: int64"
      ]
     },
     "execution_count": 50,
     "metadata": {},
     "output_type": "execute_result"
    }
   ],
   "source": [
    "df2.groupby('date').size()"
   ]
  },
  {
   "cell_type": "code",
   "execution_count": 51,
   "id": "7d3bd290",
   "metadata": {},
   "outputs": [
    {
     "data": {
      "text/plain": [
       "date\n",
       "2021-08-19    3788\n",
       "2021-08-20    4222\n",
       "2021-08-21    4663\n",
       "2021-08-22    4349\n",
       "2021-08-23    3847\n",
       "2021-08-24    3840\n",
       "2021-08-25    3822\n",
       "dtype: int64"
      ]
     },
     "execution_count": 51,
     "metadata": {},
     "output_type": "execute_result"
    }
   ],
   "source": [
    "df3.groupby('date').size()"
   ]
  },
  {
   "cell_type": "markdown",
   "id": "cdd34b37",
   "metadata": {},
   "source": [
    "# another way is to analyze the datasets after removing the 'pageviews'"
   ]
  },
  {
   "cell_type": "code",
   "execution_count": 54,
   "id": "ca9d53a7",
   "metadata": {},
   "outputs": [
    {
     "data": {
      "text/plain": [
       "{'click', 'pageview', 'preview'}"
      ]
     },
     "execution_count": 54,
     "metadata": {},
     "output_type": "execute_result"
    }
   ],
   "source": [
    "events = set(df['event'].unique())\n",
    "events"
   ]
  },
  {
   "cell_type": "code",
   "execution_count": 55,
   "id": "0c41080e",
   "metadata": {},
   "outputs": [],
   "source": [
    "events.remove('pageview')"
   ]
  },
  {
   "cell_type": "code",
   "execution_count": 56,
   "id": "44489cd3",
   "metadata": {},
   "outputs": [
    {
     "data": {
      "text/plain": [
       "{'click', 'preview'}"
      ]
     },
     "execution_count": 56,
     "metadata": {},
     "output_type": "execute_result"
    }
   ],
   "source": [
    "events"
   ]
  },
  {
   "cell_type": "code",
   "execution_count": 65,
   "id": "1949e276",
   "metadata": {},
   "outputs": [
    {
     "name": "stdout",
     "output_type": "stream",
     "text": [
      "The number of click is 55732\n",
      "click event distribution is shown below: date\n",
      "2021-08-19    9207\n",
      "2021-08-20    8508\n",
      "2021-08-21    8071\n",
      "2021-08-22    7854\n",
      "2021-08-23    7315\n",
      "2021-08-24    7301\n",
      "2021-08-25    7476\n",
      "dtype: int64\n",
      "The number of preview is 28531\n",
      "preview event distribution is shown below: date\n",
      "2021-08-19    3788\n",
      "2021-08-20    4222\n",
      "2021-08-21    4663\n",
      "2021-08-22    4349\n",
      "2021-08-23    3847\n",
      "2021-08-24    3840\n",
      "2021-08-25    3822\n",
      "dtype: int64\n"
     ]
    }
   ],
   "source": [
    "# loop over each event in events\n",
    "for event in events:\n",
    "    total_event = df[df['event']==event].shape[0]\n",
    "    print('The number of', event,'is',total_event)\n",
    "    date = df[df['event']==event].groupby('date').size()\n",
    "    print(event, 'event distribution is shown below:', date)"
   ]
  },
  {
   "cell_type": "markdown",
   "id": "46a45f66",
   "metadata": {},
   "source": [
    "# Q3: [Pandas] Which countries did the pageviews come from?"
   ]
  },
  {
   "cell_type": "code",
   "execution_count": 67,
   "id": "40fffbb4",
   "metadata": {
    "scrolled": true
   },
   "outputs": [
    {
     "data": {
      "text/html": [
       "<div>\n",
       "<style scoped>\n",
       "    .dataframe tbody tr th:only-of-type {\n",
       "        vertical-align: middle;\n",
       "    }\n",
       "\n",
       "    .dataframe tbody tr th {\n",
       "        vertical-align: top;\n",
       "    }\n",
       "\n",
       "    .dataframe thead th {\n",
       "        text-align: right;\n",
       "    }\n",
       "</style>\n",
       "<table border=\"1\" class=\"dataframe\">\n",
       "  <thead>\n",
       "    <tr style=\"text-align: right;\">\n",
       "      <th></th>\n",
       "      <th>event</th>\n",
       "      <th>date</th>\n",
       "      <th>country</th>\n",
       "      <th>city</th>\n",
       "      <th>artist</th>\n",
       "      <th>album</th>\n",
       "      <th>track</th>\n",
       "      <th>isrc</th>\n",
       "      <th>linkid</th>\n",
       "    </tr>\n",
       "  </thead>\n",
       "  <tbody>\n",
       "    <tr>\n",
       "      <th>84043</th>\n",
       "      <td>pageview</td>\n",
       "      <td>2021-08-19</td>\n",
       "      <td>Saudi Arabia</td>\n",
       "      <td>Riyadh</td>\n",
       "      <td>Tesher</td>\n",
       "      <td>Jalebi Baby</td>\n",
       "      <td>Jalebi Baby</td>\n",
       "      <td>QZNWQ2070741</td>\n",
       "      <td>2d896d31-97b6-4869-967b-1c5fb9cd4bb8</td>\n",
       "    </tr>\n",
       "    <tr>\n",
       "      <th>84044</th>\n",
       "      <td>pageview</td>\n",
       "      <td>2021-08-19</td>\n",
       "      <td>United States</td>\n",
       "      <td>Absecon</td>\n",
       "      <td>KA$HDAMI</td>\n",
       "      <td>epiphany</td>\n",
       "      <td>Reparations!</td>\n",
       "      <td>QZFYY2115255</td>\n",
       "      <td>9c61dba1-9369-4ee4-a215-1d34581cd811</td>\n",
       "    </tr>\n",
       "    <tr>\n",
       "      <th>84045</th>\n",
       "      <td>pageview</td>\n",
       "      <td>2021-08-19</td>\n",
       "      <td>Saudi Arabia</td>\n",
       "      <td>Riyadh</td>\n",
       "      <td>Tesher</td>\n",
       "      <td>Jalebi Baby</td>\n",
       "      <td>Jalebi Baby</td>\n",
       "      <td>QZNWQ2070741</td>\n",
       "      <td>2d896d31-97b6-4869-967b-1c5fb9cd4bb8</td>\n",
       "    </tr>\n",
       "    <tr>\n",
       "      <th>84046</th>\n",
       "      <td>pageview</td>\n",
       "      <td>2021-08-19</td>\n",
       "      <td>Ireland</td>\n",
       "      <td>Mullingar</td>\n",
       "      <td>Cardi B</td>\n",
       "      <td>Up</td>\n",
       "      <td>Up</td>\n",
       "      <td>USAT22100061</td>\n",
       "      <td>9d847c0e-6824-438f-9dc1-d76fca6dc87c</td>\n",
       "    </tr>\n",
       "    <tr>\n",
       "      <th>84047</th>\n",
       "      <td>pageview</td>\n",
       "      <td>2021-08-19</td>\n",
       "      <td>United Kingdom</td>\n",
       "      <td>Northampton</td>\n",
       "      <td>Kayla Nicole, Taylor Girlz, Flo Milli</td>\n",
       "      <td>Bundles 2 (feat. Flo Milli, Taylor Girlz)</td>\n",
       "      <td>Bundles 2 (feat. Flo Milli, Taylor Girlz)</td>\n",
       "      <td>QMCE32100359</td>\n",
       "      <td>fbf4b935-f961-4b13-b1d8-45ad47093559</td>\n",
       "    </tr>\n",
       "  </tbody>\n",
       "</table>\n",
       "</div>"
      ],
      "text/plain": [
       "          event        date         country         city  \\\n",
       "84043  pageview  2021-08-19    Saudi Arabia       Riyadh   \n",
       "84044  pageview  2021-08-19   United States      Absecon   \n",
       "84045  pageview  2021-08-19    Saudi Arabia       Riyadh   \n",
       "84046  pageview  2021-08-19         Ireland    Mullingar   \n",
       "84047  pageview  2021-08-19  United Kingdom  Northampton   \n",
       "\n",
       "                                      artist  \\\n",
       "84043                                 Tesher   \n",
       "84044                               KA$HDAMI   \n",
       "84045                                 Tesher   \n",
       "84046                                Cardi B   \n",
       "84047  Kayla Nicole, Taylor Girlz, Flo Milli   \n",
       "\n",
       "                                           album  \\\n",
       "84043                                Jalebi Baby   \n",
       "84044                                   epiphany   \n",
       "84045                                Jalebi Baby   \n",
       "84046                                         Up   \n",
       "84047  Bundles 2 (feat. Flo Milli, Taylor Girlz)   \n",
       "\n",
       "                                           track          isrc  \\\n",
       "84043                                Jalebi Baby  QZNWQ2070741   \n",
       "84044                               Reparations!  QZFYY2115255   \n",
       "84045                                Jalebi Baby  QZNWQ2070741   \n",
       "84046                                         Up  USAT22100061   \n",
       "84047  Bundles 2 (feat. Flo Milli, Taylor Girlz)  QMCE32100359   \n",
       "\n",
       "                                     linkid  \n",
       "84043  2d896d31-97b6-4869-967b-1c5fb9cd4bb8  \n",
       "84044  9c61dba1-9369-4ee4-a215-1d34581cd811  \n",
       "84045  2d896d31-97b6-4869-967b-1c5fb9cd4bb8  \n",
       "84046  9d847c0e-6824-438f-9dc1-d76fca6dc87c  \n",
       "84047  fbf4b935-f961-4b13-b1d8-45ad47093559  "
      ]
     },
     "execution_count": 67,
     "metadata": {},
     "output_type": "execute_result"
    }
   ],
   "source": [
    "df1.head()"
   ]
  },
  {
   "cell_type": "code",
   "execution_count": 76,
   "id": "e1190644",
   "metadata": {},
   "outputs": [
    {
     "data": {
      "text/html": [
       "<div>\n",
       "<style scoped>\n",
       "    .dataframe tbody tr th:only-of-type {\n",
       "        vertical-align: middle;\n",
       "    }\n",
       "\n",
       "    .dataframe tbody tr th {\n",
       "        vertical-align: top;\n",
       "    }\n",
       "\n",
       "    .dataframe thead th {\n",
       "        text-align: right;\n",
       "    }\n",
       "</style>\n",
       "<table border=\"1\" class=\"dataframe\">\n",
       "  <thead>\n",
       "    <tr style=\"text-align: right;\">\n",
       "      <th></th>\n",
       "      <th>0</th>\n",
       "    </tr>\n",
       "  </thead>\n",
       "  <tbody>\n",
       "    <tr>\n",
       "      <th>0</th>\n",
       "      <td>Saudi Arabia</td>\n",
       "    </tr>\n",
       "    <tr>\n",
       "      <th>1</th>\n",
       "      <td>United States</td>\n",
       "    </tr>\n",
       "    <tr>\n",
       "      <th>2</th>\n",
       "      <td>Ireland</td>\n",
       "    </tr>\n",
       "    <tr>\n",
       "      <th>3</th>\n",
       "      <td>United Kingdom</td>\n",
       "    </tr>\n",
       "    <tr>\n",
       "      <th>4</th>\n",
       "      <td>France</td>\n",
       "    </tr>\n",
       "    <tr>\n",
       "      <th>...</th>\n",
       "      <td>...</td>\n",
       "    </tr>\n",
       "    <tr>\n",
       "      <th>207</th>\n",
       "      <td>Afghanistan</td>\n",
       "    </tr>\n",
       "    <tr>\n",
       "      <th>208</th>\n",
       "      <td>Central African Republic</td>\n",
       "    </tr>\n",
       "    <tr>\n",
       "      <th>209</th>\n",
       "      <td>Guernsey</td>\n",
       "    </tr>\n",
       "    <tr>\n",
       "      <th>210</th>\n",
       "      <td>Sint Maarten</td>\n",
       "    </tr>\n",
       "    <tr>\n",
       "      <th>211</th>\n",
       "      <td>Saint Martin</td>\n",
       "    </tr>\n",
       "  </tbody>\n",
       "</table>\n",
       "<p>212 rows × 1 columns</p>\n",
       "</div>"
      ],
      "text/plain": [
       "                            0\n",
       "0                Saudi Arabia\n",
       "1               United States\n",
       "2                     Ireland\n",
       "3              United Kingdom\n",
       "4                      France\n",
       "..                        ...\n",
       "207               Afghanistan\n",
       "208  Central African Republic\n",
       "209                  Guernsey\n",
       "210              Sint Maarten\n",
       "211              Saint Martin\n",
       "\n",
       "[212 rows x 1 columns]"
      ]
     },
     "execution_count": 76,
     "metadata": {},
     "output_type": "execute_result"
    }
   ],
   "source": [
    "pd.DataFrame(df1.country.unique()) # remember to drop null values!!!"
   ]
  },
  {
   "cell_type": "code",
   "execution_count": 75,
   "id": "4786cdbd",
   "metadata": {},
   "outputs": [
    {
     "data": {
      "text/html": [
       "<div>\n",
       "<style scoped>\n",
       "    .dataframe tbody tr th:only-of-type {\n",
       "        vertical-align: middle;\n",
       "    }\n",
       "\n",
       "    .dataframe tbody tr th {\n",
       "        vertical-align: top;\n",
       "    }\n",
       "\n",
       "    .dataframe thead th {\n",
       "        text-align: right;\n",
       "    }\n",
       "</style>\n",
       "<table border=\"1\" class=\"dataframe\">\n",
       "  <thead>\n",
       "    <tr style=\"text-align: right;\">\n",
       "      <th></th>\n",
       "      <th>0</th>\n",
       "    </tr>\n",
       "  </thead>\n",
       "  <tbody>\n",
       "    <tr>\n",
       "      <th>0</th>\n",
       "      <td>Saudi Arabia</td>\n",
       "    </tr>\n",
       "    <tr>\n",
       "      <th>1</th>\n",
       "      <td>United States</td>\n",
       "    </tr>\n",
       "    <tr>\n",
       "      <th>2</th>\n",
       "      <td>Ireland</td>\n",
       "    </tr>\n",
       "    <tr>\n",
       "      <th>3</th>\n",
       "      <td>United Kingdom</td>\n",
       "    </tr>\n",
       "    <tr>\n",
       "      <th>4</th>\n",
       "      <td>France</td>\n",
       "    </tr>\n",
       "    <tr>\n",
       "      <th>...</th>\n",
       "      <td>...</td>\n",
       "    </tr>\n",
       "    <tr>\n",
       "      <th>206</th>\n",
       "      <td>Afghanistan</td>\n",
       "    </tr>\n",
       "    <tr>\n",
       "      <th>207</th>\n",
       "      <td>Central African Republic</td>\n",
       "    </tr>\n",
       "    <tr>\n",
       "      <th>208</th>\n",
       "      <td>Guernsey</td>\n",
       "    </tr>\n",
       "    <tr>\n",
       "      <th>209</th>\n",
       "      <td>Sint Maarten</td>\n",
       "    </tr>\n",
       "    <tr>\n",
       "      <th>210</th>\n",
       "      <td>Saint Martin</td>\n",
       "    </tr>\n",
       "  </tbody>\n",
       "</table>\n",
       "<p>211 rows × 1 columns</p>\n",
       "</div>"
      ],
      "text/plain": [
       "                            0\n",
       "0                Saudi Arabia\n",
       "1               United States\n",
       "2                     Ireland\n",
       "3              United Kingdom\n",
       "4                      France\n",
       "..                        ...\n",
       "206               Afghanistan\n",
       "207  Central African Republic\n",
       "208                  Guernsey\n",
       "209              Sint Maarten\n",
       "210              Saint Martin\n",
       "\n",
       "[211 rows x 1 columns]"
      ]
     },
     "execution_count": 75,
     "metadata": {},
     "output_type": "execute_result"
    }
   ],
   "source": [
    "pd.DataFrame(df1.country.dropna().unique())"
   ]
  },
  {
   "cell_type": "markdown",
   "id": "29d2fd0f",
   "metadata": {},
   "source": [
    "# Q4: [Pandas] What was the overall click rate (clicks/pageviews)?"
   ]
  },
  {
   "cell_type": "code",
   "execution_count": 78,
   "id": "6c023556",
   "metadata": {},
   "outputs": [
    {
     "data": {
      "text/plain": [
       "0.3924374185825441"
      ]
     },
     "execution_count": 78,
     "metadata": {},
     "output_type": "execute_result"
    }
   ],
   "source": [
    "df2.shape[0]/df1.shape[0]"
   ]
  },
  {
   "cell_type": "markdown",
   "id": "bee10002",
   "metadata": {},
   "source": [
    "# we need to look at the click rate for each linkid"
   ]
  },
  {
   "cell_type": "code",
   "execution_count": 86,
   "id": "28e0ee06",
   "metadata": {},
   "outputs": [
    {
     "data": {
      "text/html": [
       "<div>\n",
       "<style scoped>\n",
       "    .dataframe tbody tr th:only-of-type {\n",
       "        vertical-align: middle;\n",
       "    }\n",
       "\n",
       "    .dataframe tbody tr th {\n",
       "        vertical-align: top;\n",
       "    }\n",
       "\n",
       "    .dataframe thead th {\n",
       "        text-align: right;\n",
       "    }\n",
       "</style>\n",
       "<table border=\"1\" class=\"dataframe\">\n",
       "  <thead>\n",
       "    <tr style=\"text-align: right;\">\n",
       "      <th></th>\n",
       "      <th>linkid</th>\n",
       "      <th>pageviews</th>\n",
       "    </tr>\n",
       "  </thead>\n",
       "  <tbody>\n",
       "    <tr>\n",
       "      <th>0</th>\n",
       "      <td>00073307-ae96-5089-a117-4783afb42f8e</td>\n",
       "      <td>2</td>\n",
       "    </tr>\n",
       "    <tr>\n",
       "      <th>1</th>\n",
       "      <td>00126b32-0c35-507b-981c-02c80d2aa8e7</td>\n",
       "      <td>2</td>\n",
       "    </tr>\n",
       "    <tr>\n",
       "      <th>2</th>\n",
       "      <td>0018cfff-50a1-5984-9715-01ef2d11a49a</td>\n",
       "      <td>1</td>\n",
       "    </tr>\n",
       "    <tr>\n",
       "      <th>3</th>\n",
       "      <td>0033934b-5d16-5a06-af58-d087bcdd3680</td>\n",
       "      <td>1</td>\n",
       "    </tr>\n",
       "    <tr>\n",
       "      <th>4</th>\n",
       "      <td>0034d6cf-3bd8-5ffe-aafc-b3959fc48608</td>\n",
       "      <td>1</td>\n",
       "    </tr>\n",
       "    <tr>\n",
       "      <th>...</th>\n",
       "      <td>...</td>\n",
       "      <td>...</td>\n",
       "    </tr>\n",
       "    <tr>\n",
       "      <th>3832</th>\n",
       "      <td>fff38ca0-8043-50cd-a5f1-f65ebb7105c5</td>\n",
       "      <td>1</td>\n",
       "    </tr>\n",
       "    <tr>\n",
       "      <th>3833</th>\n",
       "      <td>fff4e5f0-4ee5-5fe7-aa30-e870edaf6ed7</td>\n",
       "      <td>2</td>\n",
       "    </tr>\n",
       "    <tr>\n",
       "      <th>3834</th>\n",
       "      <td>fff84c0e-90a1-59d8-9997-adc909d50e16</td>\n",
       "      <td>1</td>\n",
       "    </tr>\n",
       "    <tr>\n",
       "      <th>3835</th>\n",
       "      <td>fffc17a7-f935-5d3e-bd3e-d761fd80d479</td>\n",
       "      <td>2</td>\n",
       "    </tr>\n",
       "    <tr>\n",
       "      <th>3836</th>\n",
       "      <td>fffd0045-29de-522b-b5d8-35786363bf07</td>\n",
       "      <td>2</td>\n",
       "    </tr>\n",
       "  </tbody>\n",
       "</table>\n",
       "<p>3837 rows × 2 columns</p>\n",
       "</div>"
      ],
      "text/plain": [
       "                                    linkid  pageviews\n",
       "0     00073307-ae96-5089-a117-4783afb42f8e          2\n",
       "1     00126b32-0c35-507b-981c-02c80d2aa8e7          2\n",
       "2     0018cfff-50a1-5984-9715-01ef2d11a49a          1\n",
       "3     0033934b-5d16-5a06-af58-d087bcdd3680          1\n",
       "4     0034d6cf-3bd8-5ffe-aafc-b3959fc48608          1\n",
       "...                                    ...        ...\n",
       "3832  fff38ca0-8043-50cd-a5f1-f65ebb7105c5          1\n",
       "3833  fff4e5f0-4ee5-5fe7-aa30-e870edaf6ed7          2\n",
       "3834  fff84c0e-90a1-59d8-9997-adc909d50e16          1\n",
       "3835  fffc17a7-f935-5d3e-bd3e-d761fd80d479          2\n",
       "3836  fffd0045-29de-522b-b5d8-35786363bf07          2\n",
       "\n",
       "[3837 rows x 2 columns]"
      ]
     },
     "execution_count": 86,
     "metadata": {},
     "output_type": "execute_result"
    }
   ],
   "source": [
    "pageview = df1.groupby('linkid').size().to_frame('pageviews').reset_index()\n",
    "pageview"
   ]
  },
  {
   "cell_type": "code",
   "execution_count": 88,
   "id": "984db44e",
   "metadata": {},
   "outputs": [
    {
     "data": {
      "text/html": [
       "<div>\n",
       "<style scoped>\n",
       "    .dataframe tbody tr th:only-of-type {\n",
       "        vertical-align: middle;\n",
       "    }\n",
       "\n",
       "    .dataframe tbody tr th {\n",
       "        vertical-align: top;\n",
       "    }\n",
       "\n",
       "    .dataframe thead th {\n",
       "        text-align: right;\n",
       "    }\n",
       "</style>\n",
       "<table border=\"1\" class=\"dataframe\">\n",
       "  <thead>\n",
       "    <tr style=\"text-align: right;\">\n",
       "      <th></th>\n",
       "      <th>linkid</th>\n",
       "      <th>clicks</th>\n",
       "    </tr>\n",
       "  </thead>\n",
       "  <tbody>\n",
       "    <tr>\n",
       "      <th>0</th>\n",
       "      <td>00126b32-0c35-507b-981c-02c80d2aa8e7</td>\n",
       "      <td>2</td>\n",
       "    </tr>\n",
       "    <tr>\n",
       "      <th>1</th>\n",
       "      <td>004b9724-abca-5481-b6e9-6148a7ca00a5</td>\n",
       "      <td>1</td>\n",
       "    </tr>\n",
       "    <tr>\n",
       "      <th>2</th>\n",
       "      <td>0063a982-41cd-5629-96d0-e1c4dd72ea11</td>\n",
       "      <td>2</td>\n",
       "    </tr>\n",
       "    <tr>\n",
       "      <th>3</th>\n",
       "      <td>006af6a0-1f0d-4b0c-93bf-756af9071c06</td>\n",
       "      <td>8</td>\n",
       "    </tr>\n",
       "    <tr>\n",
       "      <th>4</th>\n",
       "      <td>00759b81-3f04-4a61-b934-f8fb3185f4a0</td>\n",
       "      <td>3</td>\n",
       "    </tr>\n",
       "    <tr>\n",
       "      <th>...</th>\n",
       "      <td>...</td>\n",
       "      <td>...</td>\n",
       "    </tr>\n",
       "    <tr>\n",
       "      <th>2250</th>\n",
       "      <td>ffd8d5a7-91bc-48e1-a692-c26fca8a8ead</td>\n",
       "      <td>29</td>\n",
       "    </tr>\n",
       "    <tr>\n",
       "      <th>2251</th>\n",
       "      <td>fff38ca0-8043-50cd-a5f1-f65ebb7105c5</td>\n",
       "      <td>1</td>\n",
       "    </tr>\n",
       "    <tr>\n",
       "      <th>2252</th>\n",
       "      <td>fff84c0e-90a1-59d8-9997-adc909d50e16</td>\n",
       "      <td>1</td>\n",
       "    </tr>\n",
       "    <tr>\n",
       "      <th>2253</th>\n",
       "      <td>fffc17a7-f935-5d3e-bd3e-d761fd80d479</td>\n",
       "      <td>1</td>\n",
       "    </tr>\n",
       "    <tr>\n",
       "      <th>2254</th>\n",
       "      <td>fffd0045-29de-522b-b5d8-35786363bf07</td>\n",
       "      <td>1</td>\n",
       "    </tr>\n",
       "  </tbody>\n",
       "</table>\n",
       "<p>2255 rows × 2 columns</p>\n",
       "</div>"
      ],
      "text/plain": [
       "                                    linkid  clicks\n",
       "0     00126b32-0c35-507b-981c-02c80d2aa8e7       2\n",
       "1     004b9724-abca-5481-b6e9-6148a7ca00a5       1\n",
       "2     0063a982-41cd-5629-96d0-e1c4dd72ea11       2\n",
       "3     006af6a0-1f0d-4b0c-93bf-756af9071c06       8\n",
       "4     00759b81-3f04-4a61-b934-f8fb3185f4a0       3\n",
       "...                                    ...     ...\n",
       "2250  ffd8d5a7-91bc-48e1-a692-c26fca8a8ead      29\n",
       "2251  fff38ca0-8043-50cd-a5f1-f65ebb7105c5       1\n",
       "2252  fff84c0e-90a1-59d8-9997-adc909d50e16       1\n",
       "2253  fffc17a7-f935-5d3e-bd3e-d761fd80d479       1\n",
       "2254  fffd0045-29de-522b-b5d8-35786363bf07       1\n",
       "\n",
       "[2255 rows x 2 columns]"
      ]
     },
     "execution_count": 88,
     "metadata": {},
     "output_type": "execute_result"
    }
   ],
   "source": [
    "clicks=df2.groupby('linkid').size().to_frame('clicks').reset_index()\n",
    "clicks"
   ]
  },
  {
   "cell_type": "code",
   "execution_count": 92,
   "id": "71b15e09",
   "metadata": {},
   "outputs": [],
   "source": [
    "together = clicks.merge(pageview, how='inner')[['linkid','clicks','pageviews']]"
   ]
  },
  {
   "cell_type": "code",
   "execution_count": 94,
   "id": "c69c6ed4",
   "metadata": {},
   "outputs": [
    {
     "data": {
      "text/html": [
       "<div>\n",
       "<style scoped>\n",
       "    .dataframe tbody tr th:only-of-type {\n",
       "        vertical-align: middle;\n",
       "    }\n",
       "\n",
       "    .dataframe tbody tr th {\n",
       "        vertical-align: top;\n",
       "    }\n",
       "\n",
       "    .dataframe thead th {\n",
       "        text-align: right;\n",
       "    }\n",
       "</style>\n",
       "<table border=\"1\" class=\"dataframe\">\n",
       "  <thead>\n",
       "    <tr style=\"text-align: right;\">\n",
       "      <th></th>\n",
       "      <th>linkid</th>\n",
       "      <th>clicks</th>\n",
       "      <th>pageviews</th>\n",
       "      <th>rate</th>\n",
       "    </tr>\n",
       "  </thead>\n",
       "  <tbody>\n",
       "    <tr>\n",
       "      <th>0</th>\n",
       "      <td>00126b32-0c35-507b-981c-02c80d2aa8e7</td>\n",
       "      <td>2</td>\n",
       "      <td>2</td>\n",
       "      <td>1.000000</td>\n",
       "    </tr>\n",
       "    <tr>\n",
       "      <th>1</th>\n",
       "      <td>004b9724-abca-5481-b6e9-6148a7ca00a5</td>\n",
       "      <td>1</td>\n",
       "      <td>1</td>\n",
       "      <td>1.000000</td>\n",
       "    </tr>\n",
       "    <tr>\n",
       "      <th>2</th>\n",
       "      <td>0063a982-41cd-5629-96d0-e1c4dd72ea11</td>\n",
       "      <td>2</td>\n",
       "      <td>3</td>\n",
       "      <td>0.666667</td>\n",
       "    </tr>\n",
       "    <tr>\n",
       "      <th>3</th>\n",
       "      <td>006af6a0-1f0d-4b0c-93bf-756af9071c06</td>\n",
       "      <td>8</td>\n",
       "      <td>36</td>\n",
       "      <td>0.222222</td>\n",
       "    </tr>\n",
       "    <tr>\n",
       "      <th>4</th>\n",
       "      <td>00759b81-3f04-4a61-b934-f8fb3185f4a0</td>\n",
       "      <td>3</td>\n",
       "      <td>4</td>\n",
       "      <td>0.750000</td>\n",
       "    </tr>\n",
       "    <tr>\n",
       "      <th>...</th>\n",
       "      <td>...</td>\n",
       "      <td>...</td>\n",
       "      <td>...</td>\n",
       "      <td>...</td>\n",
       "    </tr>\n",
       "    <tr>\n",
       "      <th>2248</th>\n",
       "      <td>ffd8d5a7-91bc-48e1-a692-c26fca8a8ead</td>\n",
       "      <td>29</td>\n",
       "      <td>84</td>\n",
       "      <td>0.345238</td>\n",
       "    </tr>\n",
       "    <tr>\n",
       "      <th>2249</th>\n",
       "      <td>fff38ca0-8043-50cd-a5f1-f65ebb7105c5</td>\n",
       "      <td>1</td>\n",
       "      <td>1</td>\n",
       "      <td>1.000000</td>\n",
       "    </tr>\n",
       "    <tr>\n",
       "      <th>2250</th>\n",
       "      <td>fff84c0e-90a1-59d8-9997-adc909d50e16</td>\n",
       "      <td>1</td>\n",
       "      <td>1</td>\n",
       "      <td>1.000000</td>\n",
       "    </tr>\n",
       "    <tr>\n",
       "      <th>2251</th>\n",
       "      <td>fffc17a7-f935-5d3e-bd3e-d761fd80d479</td>\n",
       "      <td>1</td>\n",
       "      <td>2</td>\n",
       "      <td>0.500000</td>\n",
       "    </tr>\n",
       "    <tr>\n",
       "      <th>2252</th>\n",
       "      <td>fffd0045-29de-522b-b5d8-35786363bf07</td>\n",
       "      <td>1</td>\n",
       "      <td>2</td>\n",
       "      <td>0.500000</td>\n",
       "    </tr>\n",
       "  </tbody>\n",
       "</table>\n",
       "<p>2253 rows × 4 columns</p>\n",
       "</div>"
      ],
      "text/plain": [
       "                                    linkid  clicks  pageviews      rate\n",
       "0     00126b32-0c35-507b-981c-02c80d2aa8e7       2          2  1.000000\n",
       "1     004b9724-abca-5481-b6e9-6148a7ca00a5       1          1  1.000000\n",
       "2     0063a982-41cd-5629-96d0-e1c4dd72ea11       2          3  0.666667\n",
       "3     006af6a0-1f0d-4b0c-93bf-756af9071c06       8         36  0.222222\n",
       "4     00759b81-3f04-4a61-b934-f8fb3185f4a0       3          4  0.750000\n",
       "...                                    ...     ...        ...       ...\n",
       "2248  ffd8d5a7-91bc-48e1-a692-c26fca8a8ead      29         84  0.345238\n",
       "2249  fff38ca0-8043-50cd-a5f1-f65ebb7105c5       1          1  1.000000\n",
       "2250  fff84c0e-90a1-59d8-9997-adc909d50e16       1          1  1.000000\n",
       "2251  fffc17a7-f935-5d3e-bd3e-d761fd80d479       1          2  0.500000\n",
       "2252  fffd0045-29de-522b-b5d8-35786363bf07       1          2  0.500000\n",
       "\n",
       "[2253 rows x 4 columns]"
      ]
     },
     "execution_count": 94,
     "metadata": {},
     "output_type": "execute_result"
    }
   ],
   "source": [
    "together['rate']=together['clicks']/together['pageviews']\n",
    "together"
   ]
  },
  {
   "cell_type": "markdown",
   "id": "1f8582e6",
   "metadata": {},
   "source": [
    "# Q5: [Pandas] How does the clickrate distribute across different links?"
   ]
  },
  {
   "cell_type": "code",
   "execution_count": null,
   "id": "1b371840",
   "metadata": {},
   "outputs": [],
   "source": [
    "## I will look at the rate distribution --> Plot a histogram \n",
    "# inpsired by: https://winder.ai/histograms-and-skewed-data/"
   ]
  },
  {
   "cell_type": "code",
   "execution_count": 99,
   "id": "6fd2c24a",
   "metadata": {},
   "outputs": [
    {
     "data": {
      "text/plain": [
       "0       1.000000\n",
       "1       1.000000\n",
       "2       0.666667\n",
       "3       0.222222\n",
       "4       0.750000\n",
       "          ...   \n",
       "2248    0.345238\n",
       "2249    1.000000\n",
       "2250    1.000000\n",
       "2251    0.500000\n",
       "2252    0.500000\n",
       "Name: rate, Length: 2253, dtype: float64"
      ]
     },
     "execution_count": 99,
     "metadata": {},
     "output_type": "execute_result"
    }
   ],
   "source": [
    "clickrate=together['rate']\n",
    "clickrate"
   ]
  },
  {
   "cell_type": "code",
   "execution_count": 101,
   "id": "fbdf0152",
   "metadata": {},
   "outputs": [
    {
     "data": {
      "text/plain": [
       "count    2253.000000\n",
       "mean        0.809920\n",
       "std         1.958030\n",
       "min         0.090909\n",
       "25%         0.500000\n",
       "50%         1.000000\n",
       "75%         1.000000\n",
       "max        92.300000\n",
       "Name: rate, dtype: float64"
      ]
     },
     "execution_count": 101,
     "metadata": {},
     "output_type": "execute_result"
    }
   ],
   "source": [
    "clickrate.describe() # get a quick sense of the distribution \n",
    "\n",
    "## the distribution can be skewed "
   ]
  },
  {
   "cell_type": "code",
   "execution_count": 111,
   "id": "1d1e97c8",
   "metadata": {},
   "outputs": [
    {
     "data": {
      "text/plain": [
       "Text(0.5, 0, 'Click Rate')"
      ]
     },
     "execution_count": 111,
     "metadata": {},
     "output_type": "execute_result"
    },
    {
     "data": {
      "image/png": "[encoded data removed]",
      "text/plain": [
       "<Figure size 432x288 with 1 Axes>"
      ]
     },
     "metadata": {
      "needs_background": "light"
     },
     "output_type": "display_data"
    }
   ],
   "source": [
    "ax = clickrate.plot(kind='hist', bins=100)\n",
    "ax.set_xlabel('Click Rate')"
   ]
  },
  {
   "cell_type": "code",
   "execution_count": 113,
   "id": "1d9d74d7",
   "metadata": {},
   "outputs": [
    {
     "data": {
      "text/plain": [
       "<AxesSubplot:ylabel='Density'>"
      ]
     },
     "execution_count": 113,
     "metadata": {},
     "output_type": "execute_result"
    },
    {
     "data": {
      "image/png": "[encoded data removed]",
      "text/plain": [
       "<Figure size 432x288 with 1 Axes>"
      ]
     },
     "metadata": {
      "needs_background": "light"
     },
     "output_type": "display_data"
    }
   ],
   "source": [
    "clickrate.plot(kind='kde') # kernel density distribution --> a smooth curve that summerize the distribution "
   ]
  },
  {
   "cell_type": "markdown",
   "id": "0516a1e5",
   "metadata": {},
   "source": [
    "# when the data is skewed --> indicating some sort of power law, or exponential --> transform the data format"
   ]
  },
  {
   "cell_type": "markdown",
   "id": "11450118",
   "metadata": {},
   "source": [
    "# Maybe log law?"
   ]
  },
  {
   "cell_type": "code",
   "execution_count": 106,
   "id": "c5bd8706",
   "metadata": {},
   "outputs": [],
   "source": [
    "clickrate_log = clickrate.apply(np.log)\n",
    "## we’re not altering the data, we’re just changing how it is represented."
   ]
  },
  {
   "cell_type": "code",
   "execution_count": 118,
   "id": "31a5ffd4",
   "metadata": {
    "scrolled": true
   },
   "outputs": [
    {
     "data": {
      "text/plain": [
       "Text(0.5, 0, 'Click Rate(Log)')"
      ]
     },
     "execution_count": 118,
     "metadata": {},
     "output_type": "execute_result"
    },
    {
     "data": {
      "image/png": "[encoded data removed]",
      "text/plain": [
       "<Figure size 432x288 with 1 Axes>"
      ]
     },
     "metadata": {
      "needs_background": "light"
     },
     "output_type": "display_data"
    }
   ],
   "source": [
    "ax1=clickrate_log.plot(kind='hist', bins=100) # look better!\n",
    "ax1.set_xlabel('Click Rate(Log)')"
   ]
  },
  {
   "cell_type": "markdown",
   "id": "0ed69fc7",
   "metadata": {},
   "source": [
    "# The Logged click rates are centered around 0 --> indicates that click rate is center on 1 --> # of click = # of pageviews"
   ]
  },
  {
   "cell_type": "markdown",
   "id": "e9a478ae",
   "metadata": {},
   "source": [
    "# Maybe square law?"
   ]
  },
  {
   "cell_type": "code",
   "execution_count": 109,
   "id": "4a35b1f0",
   "metadata": {},
   "outputs": [],
   "source": [
    "click_sq = clickrate.apply(np.sqrt)"
   ]
  },
  {
   "cell_type": "code",
   "execution_count": 117,
   "id": "dc17d454",
   "metadata": {},
   "outputs": [
    {
     "data": {
      "text/plain": [
       "Text(0.5, 0, 'Click Rate(SQRT)')"
      ]
     },
     "execution_count": 117,
     "metadata": {},
     "output_type": "execute_result"
    },
    {
     "data": {
      "image/png": "[encoded data removed]",
      "text/plain": [
       "<Figure size 432x288 with 1 Axes>"
      ]
     },
     "metadata": {
      "needs_background": "light"
     },
     "output_type": "display_data"
    }
   ],
   "source": [
    "ax2 = click_sq.plot(kind='hist', bins=100) ## it does not look good --> I will stick with the log law :)\n",
    "ax2.set_xlabel('Click Rate(SQRT)')"
   ]
  },
  {
   "cell_type": "code",
   "execution_count": 119,
   "id": "12a908ec",
   "metadata": {},
   "outputs": [
    {
     "data": {
      "image/png": "[encoded data removed]",
      "text/plain": [
       "<Figure size 432x288 with 1 Axes>"
      ]
     },
     "metadata": {
      "needs_background": "light"
     },
     "output_type": "display_data"
    }
   ],
   "source": [
    "ax3=clickrate_log.plot(kind='box')"
   ]
  },
  {
   "cell_type": "code",
   "execution_count": null,
   "id": "8a5105a7",
   "metadata": {},
   "outputs": [],
   "source": [
    "# from the boxplot, there are two outliers. And most of the data are below the Q1"
   ]
  },
  {
   "cell_type": "markdown",
   "id": "4379eed5",
   "metadata": {},
   "source": [
    "# Q6: [Pandas & SciPy] Is there any correlation between clicks and previews on a link? Is it significant? How large is the effect? Make sure to at least test for potential linear as well as categorical (think binary) relationships between both variables."
   ]
  },
  {
   "cell_type": "code",
   "execution_count": 122,
   "id": "f711d4f8",
   "metadata": {},
   "outputs": [
    {
     "data": {
      "text/plain": [
       "(0.9939838266311453, 0.0)"
      ]
     },
     "execution_count": 122,
     "metadata": {},
     "output_type": "execute_result"
    }
   ],
   "source": [
    "stats.pearsonr(together['clicks'],together['pageviews']) # Pearson's r \n",
    "\n",
    "#Scipy\n",
    "#(correlation, p value)"
   ]
  },
  {
   "cell_type": "code",
   "execution_count": 126,
   "id": "59c9865d",
   "metadata": {},
   "outputs": [
    {
     "data": {
      "text/html": [
       "<div>\n",
       "<style scoped>\n",
       "    .dataframe tbody tr th:only-of-type {\n",
       "        vertical-align: middle;\n",
       "    }\n",
       "\n",
       "    .dataframe tbody tr th {\n",
       "        vertical-align: top;\n",
       "    }\n",
       "\n",
       "    .dataframe thead th {\n",
       "        text-align: right;\n",
       "    }\n",
       "</style>\n",
       "<table border=\"1\" class=\"dataframe\">\n",
       "  <thead>\n",
       "    <tr style=\"text-align: right;\">\n",
       "      <th></th>\n",
       "      <th>clicks</th>\n",
       "      <th>pageviews</th>\n",
       "    </tr>\n",
       "  </thead>\n",
       "  <tbody>\n",
       "    <tr>\n",
       "      <th>clicks</th>\n",
       "      <td>1.000000</td>\n",
       "      <td>0.993984</td>\n",
       "    </tr>\n",
       "    <tr>\n",
       "      <th>pageviews</th>\n",
       "      <td>0.993984</td>\n",
       "      <td>1.000000</td>\n",
       "    </tr>\n",
       "  </tbody>\n",
       "</table>\n",
       "</div>"
      ],
      "text/plain": [
       "             clicks  pageviews\n",
       "clicks     1.000000   0.993984\n",
       "pageviews  0.993984   1.000000"
      ]
     },
     "execution_count": 126,
     "metadata": {},
     "output_type": "execute_result"
    }
   ],
   "source": [
    "new = together.drop(columns='rate')\n",
    "new.corr() # Pandas"
   ]
  },
  {
   "cell_type": "markdown",
   "id": "80399a69",
   "metadata": {},
   "source": [
    "# clicks and pageviews are possitively correlated. It makes sense because click is the premise of pageview"
   ]
  }
 ],
 "metadata": {
  "kernelspec": {
   "display_name": "Python 3 (ipykernel)",
   "language": "python",
   "name": "python3"
  },
  "language_info": {
   "codemirror_mode": {
    "name": "ipython",
    "version": 3
   },
   "file_extension": ".py",
   "mimetype": "text/x-python",
   "name": "python",
   "nbconvert_exporter": "python",
   "pygments_lexer": "ipython3",
   "version": "3.9.12"
  }
 },
 "nbformat": 4,
 "nbformat_minor": 5
}
